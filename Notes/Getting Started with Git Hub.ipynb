{
 "cells": [
  {
   "cell_type": "markdown",
   "metadata": {},
   "source": [
    "# Getting started with Git\n"
   ]
  },
  {
   "cell_type": "markdown",
   "metadata": {},
   "source": [
    "## Setting a username\n",
    "\n",
    "git config --global user.name \"Nikson Kejeh\""
   ]
  },
  {
   "cell_type": "code",
   "execution_count": null,
   "metadata": {},
   "outputs": [],
   "source": [
    "# set the email address\n",
    "git config --global user.email niksonkejeh@gmail.com"
   ]
  },
  {
   "cell_type": "code",
   "execution_count": null,
   "metadata": {},
   "outputs": [],
   "source": [
    "#Exit a view\n",
    "Press Q"
   ]
  },
  {
   "cell_type": "code",
   "execution_count": null,
   "metadata": {},
   "outputs": [],
   "source": [
    "# create a deafult branch called main\n",
    "git config --global init.default branch main"
   ]
  },
  {
   "cell_type": "code",
   "execution_count": null,
   "metadata": {},
   "outputs": [],
   "source": [
    "# to seek help about commands\n",
    "git command -h\n",
    "\n",
    "or\n",
    "\n",
    "git help command"
   ]
  },
  {
   "cell_type": "code",
   "execution_count": null,
   "metadata": {},
   "outputs": [],
   "source": [
    "#to access a directory\n",
    "cd path\n",
    "e.g cd c:/user/nikso/greenfield"
   ]
  },
  {
   "cell_type": "code",
   "execution_count": null,
   "metadata": {},
   "outputs": [],
   "source": [
    "#to create a repo in the directory\n",
    "git init"
   ]
  },
  {
   "cell_type": "code",
   "execution_count": null,
   "metadata": {},
   "outputs": [],
   "source": [
    "#to get status of the repo\n",
    "git status"
   ]
  },
  {
   "cell_type": "markdown",
   "metadata": {},
   "source": [
    "Untracked files will not be worked on by git.\n",
    "to track a file:\n",
    "\n",
    "git add filename\n",
    "\n",
    "to stop tracking a file:\n",
    "\n",
    "git rm --cached filename\n",
    "\n",
    "to track multiple files\n",
    "\n",
    "git add . (adds all the files in the directory)\n",
    "git add --all"
   ]
  },
  {
   "cell_type": "code",
   "execution_count": null,
   "metadata": {},
   "outputs": [],
   "source": [
    "to exempt files from git\n",
    "\n",
    "create .gitignore text file in the deafult git directory\n",
    "comment ignore all ---files\n",
    "e.g \n",
    "\n"
   ]
  },
  {
   "cell_type": "code",
   "execution_count": null,
   "metadata": {},
   "outputs": [],
   "source": [
    "# ignore all .txt files\n",
    "\n",
    "all txt files will not show up on git status anymore"
   ]
  },
  {
   "cell_type": "markdown",
   "metadata": {},
   "source": [
    "## Commit: \n",
    "\n",
    "take a snapshot of what your files look like at specific times. A commit is an entry in the log."
   ]
  },
  {
   "cell_type": "code",
   "execution_count": null,
   "metadata": {},
   "outputs": [],
   "source": [
    "git commit -m \"message e.g this is the first milestone in this project\""
   ]
  },
  {
   "cell_type": "code",
   "execution_count": null,
   "metadata": {},
   "outputs": [],
   "source": [
    "If a file is modified after committing, it can be seen using the status command.\n",
    "\n",
    "The specific change made can be identified using diff command\n",
    "git diff\n",
    "\n",
    "When a file is changed is goes into staging, till it is committed."
   ]
  },
  {
   "cell_type": "markdown",
   "metadata": {},
   "source": [
    "## Environments in git:\n",
    "    \n",
    "* Working files\n",
    "* Staging\n",
    "* Commit"
   ]
  },
  {
   "cell_type": "code",
   "execution_count": null,
   "metadata": {},
   "outputs": [],
   "source": [
    "to remove a file from staging\n",
    "\n",
    "git restore --staged name of file"
   ]
  },
  {
   "cell_type": "code",
   "execution_count": null,
   "metadata": {},
   "outputs": [],
   "source": [
    "to skip staging\n",
    "git commit -a -m \"message e.g changed step three and updated\""
   ]
  },
  {
   "cell_type": "code",
   "execution_count": null,
   "metadata": {},
   "outputs": [],
   "source": [
    "to delete files in the folder from git\n",
    "git rm \"name & ext of file\""
   ]
  },
  {
   "cell_type": "code",
   "execution_count": null,
   "metadata": {},
   "outputs": [],
   "source": [
    "restore deleted files\n",
    "git restore \"filename\""
   ]
  },
  {
   "cell_type": "code",
   "execution_count": null,
   "metadata": {},
   "outputs": [],
   "source": [
    "renaming a file\n",
    "git mv \"oldname.ext\" \"new_name.ext\""
   ]
  },
  {
   "cell_type": "code",
   "execution_count": null,
   "metadata": {},
   "outputs": [],
   "source": [
    "to specify name change in commit\n",
    "git commit -m \"renamed file b\""
   ]
  },
  {
   "cell_type": "code",
   "execution_count": null,
   "metadata": {},
   "outputs": [],
   "source": [
    "to see all commits made\n",
    "git log\n",
    "\n",
    "for brief version\n",
    "git log --oneline"
   ]
  },
  {
   "cell_type": "code",
   "execution_count": null,
   "metadata": {},
   "outputs": [],
   "source": [
    "To edit the message in the commit\n",
    "git commit -m \"i Wam to correct a misteake\" --ammend"
   ]
  },
  {
   "cell_type": "code",
   "execution_count": null,
   "metadata": {},
   "outputs": [],
   "source": [
    "to see all changes in the log\n",
    "git log -p"
   ]
  },
  {
   "cell_type": "code",
   "execution_count": null,
   "metadata": {},
   "outputs": [],
   "source": [
    "#to reset to previous commits\n",
    "git reset {id of commit}"
   ]
  },
  {
   "cell_type": "code",
   "execution_count": null,
   "metadata": {},
   "outputs": [],
   "source": [
    "#creating a new branch\n",
    "git branch {branch_name}\n",
    " or\n",
    "#to create and switch   \n",
    "git switch -c {branch_name}"
   ]
  },
  {
   "cell_type": "code",
   "execution_count": null,
   "metadata": {},
   "outputs": [],
   "source": [
    "#to see all branches\n",
    "git branch"
   ]
  },
  {
   "cell_type": "code",
   "execution_count": null,
   "metadata": {},
   "outputs": [],
   "source": [
    "#to move to a different branch\n",
    "git switch {name of branch}"
   ]
  },
  {
   "cell_type": "code",
   "execution_count": 2,
   "metadata": {},
   "outputs": [
    {
     "ename": "SyntaxError",
     "evalue": "invalid syntax (<ipython-input-2-34ca2691096e>, line 2)",
     "output_type": "error",
     "traceback": [
      "\u001b[1;36m  File \u001b[1;32m\"<ipython-input-2-34ca2691096e>\"\u001b[1;36m, line \u001b[1;32m2\u001b[0m\n\u001b[1;33m    git merge -m \"message\"\u001b[0m\n\u001b[1;37m        ^\u001b[0m\n\u001b[1;31mSyntaxError\u001b[0m\u001b[1;31m:\u001b[0m invalid syntax\n"
     ]
    }
   ],
   "source": [
    "#to merge branches\n",
    "git merge -m \"message\"\n",
    "\n",
    "#to merge branches after changes have happened in the main"
   ]
  },
  {
   "cell_type": "code",
   "execution_count": null,
   "metadata": {},
   "outputs": [],
   "source": [
    "#to delete a branch\n",
    "git branch -d {name of branch}\n"
   ]
  },
  {
   "cell_type": "markdown",
   "metadata": {},
   "source": [
    "#to merge changes from online version with local computer\n",
    "git fetch\n",
    "\n",
    "git merge"
   ]
  },
  {
   "cell_type": "code",
   "execution_count": null,
   "metadata": {},
   "outputs": [],
   "source": [
    "#to merge changes using one code\n",
    "git pull"
   ]
  },
  {
   "cell_type": "markdown",
   "metadata": {},
   "source": [
    "## Forking\n",
    "\n",
    "To fork a repository is to create a copy of that repository on another account."
   ]
  },
  {
   "cell_type": "markdown",
   "metadata": {},
   "source": [
    "## Cloning a Repo\n",
    "\n",
    "Cloning a repository means creating a version of that repository on a local computer."
   ]
  },
  {
   "cell_type": "markdown",
   "metadata": {},
   "source": [
    "#To clone a repo, \n",
    "* open git bash on the local computer\n",
    "* navigate to the folder hwere you want the repository to be\n",
    "\n",
    "Enter the following code:\n",
    "\n",
    "$ git clone {link to the repository}"
   ]
  },
  {
   "cell_type": "code",
   "execution_count": null,
   "metadata": {},
   "outputs": [],
   "source": []
  }
 ],
 "metadata": {
  "kernelspec": {
   "display_name": "Python 3",
   "language": "python",
   "name": "python3"
  },
  "language_info": {
   "codemirror_mode": {
    "name": "ipython",
    "version": 3
   },
   "file_extension": ".py",
   "mimetype": "text/x-python",
   "name": "python",
   "nbconvert_exporter": "python",
   "pygments_lexer": "ipython3",
   "version": "3.8.8"
  }
 },
 "nbformat": 4,
 "nbformat_minor": 2
}
